{
 "cells": [
  {
   "cell_type": "code",
   "execution_count": 1,
   "id": "9a22596c",
   "metadata": {},
   "outputs": [],
   "source": [
    "with open(\"../../data/Pret_data/french_dataset.txt\", \"r\", encoding=\"utf-8\") as f:\n",
    "    text = f.read()"
   ]
  },
  {
   "cell_type": "code",
   "execution_count": 2,
   "id": "59384a6a",
   "metadata": {},
   "outputs": [
    {
     "name": "stdout",
     "output_type": "stream",
     "text": [
      "Je déclare reprise la session du Parlement européen qui avait été interrompue le vendredi 17 décembr\n"
     ]
    }
   ],
   "source": [
    "print(text[:100])"
   ]
  },
  {
   "cell_type": "code",
   "execution_count": 3,
   "id": "2487632d",
   "metadata": {},
   "outputs": [
    {
     "name": "stdout",
     "output_type": "stream",
     "text": [
      "\n",
      " !\"%'(),-./0123456789:;?ABCDEFGHIJKLMNOPQRSTUVWXYZ[]abcdefghijklmnopqrstuvwxyz­ºÀÂÉÊÖàáâäçèéêëíîïòóôöøùûü\n",
      "106\n"
     ]
    }
   ],
   "source": [
    "chars = sorted(list(set(text)))\n",
    "vocab_size = len(chars)\n",
    "print(''.join(chars))\n",
    "print(vocab_size)"
   ]
  },
  {
   "cell_type": "markdown",
   "id": "0fbe16df",
   "metadata": {},
   "source": [
    "### tokenization "
   ]
  },
  {
   "cell_type": "code",
   "execution_count": 4,
   "id": "42c34522",
   "metadata": {},
   "outputs": [
    {
     "name": "stdout",
     "output_type": "stream",
     "text": [
      "[60, 61, 61, 1, 72, 60, 57, 70, 57]\n",
      "hii there\n"
     ]
    }
   ],
   "source": [
    "# create a mapping from characters to integers\n",
    "stoi = { ch:i for i,ch in enumerate(chars) }\n",
    "itos = { i:ch for i,ch in enumerate(chars) }\n",
    "encode = lambda s: [stoi[c] for c in s] # encoder: take a string, output a list of integers\n",
    "decode = lambda l: ''.join([itos[i] for i in l]) # decoder: take a list of integers, output a string\n",
    "\n",
    "print(encode(\"hii there\"))\n",
    "print(decode(encode(\"hii there\")))"
   ]
  },
  {
   "cell_type": "code",
   "execution_count": 5,
   "id": "c48cc575",
   "metadata": {},
   "outputs": [
    {
     "name": "stdout",
     "output_type": "stream",
     "text": [
      "torch.Size([1044950]) torch.int64\n"
     ]
    },
    {
     "data": {
      "text/plain": [
       "tensor([34, 57,  1, 56, 92, 55, 64, 53, 70, 57,  1, 70, 57, 68, 70, 61, 71, 57,\n",
       "         1, 64, 53,  1, 71, 57, 71, 71, 61, 67, 66,  1, 56, 73,  1, 40, 53, 70,\n",
       "        64, 57, 65, 57, 66, 72,  1, 57, 73, 70, 67, 68, 92, 57, 66,  1, 69, 73,\n",
       "        61,  1, 53, 74, 53, 61, 72,  1, 92, 72, 92,  1, 61, 66, 72, 57, 70, 70,\n",
       "        67, 65, 68, 73, 57,  1, 64, 57,  1, 74, 57, 66, 56, 70, 57, 56, 61,  1,\n",
       "        13, 19,  1, 56, 92, 55, 57, 65, 54, 70])"
      ]
     },
     "execution_count": 5,
     "metadata": {},
     "output_type": "execute_result"
    }
   ],
   "source": [
    "import torch \n",
    "data = torch.tensor(encode(text),dtype = torch.long)\n",
    "print(data.shape,data.dtype)\n",
    "data[:100]"
   ]
  },
  {
   "cell_type": "markdown",
   "id": "bdbb8e21",
   "metadata": {},
   "source": [
    "### Split train and validation"
   ]
  },
  {
   "cell_type": "code",
   "execution_count": 6,
   "id": "2d7b63b8",
   "metadata": {},
   "outputs": [],
   "source": [
    "n = int(0.9 * len(data))\n",
    "train_data = data[:n]\n",
    "val_data = data[n:]"
   ]
  },
  {
   "cell_type": "code",
   "execution_count": 7,
   "id": "d1ab9824",
   "metadata": {},
   "outputs": [
    {
     "data": {
      "text/plain": [
       "tensor([34, 57,  1, 56, 92, 55, 64, 53, 70])"
      ]
     },
     "execution_count": 7,
     "metadata": {},
     "output_type": "execute_result"
    }
   ],
   "source": [
    "block_size = 8\n",
    "train_data[:block_size+1]"
   ]
  },
  {
   "cell_type": "code",
   "execution_count": 8,
   "id": "2676e387",
   "metadata": {},
   "outputs": [
    {
     "name": "stdout",
     "output_type": "stream",
     "text": [
      "when input is tensor([34]) the target: 57\n",
      "when input is tensor([34, 57]) the target: 1\n",
      "when input is tensor([34, 57,  1]) the target: 56\n",
      "when input is tensor([34, 57,  1, 56]) the target: 92\n",
      "when input is tensor([34, 57,  1, 56, 92]) the target: 55\n",
      "when input is tensor([34, 57,  1, 56, 92, 55]) the target: 64\n",
      "when input is tensor([34, 57,  1, 56, 92, 55, 64]) the target: 53\n",
      "when input is tensor([34, 57,  1, 56, 92, 55, 64, 53]) the target: 70\n"
     ]
    }
   ],
   "source": [
    "x = train_data[:block_size]\n",
    "y = train_data[1:block_size+1]\n",
    "for t in range(block_size):\n",
    "    context = x[:t+1]\n",
    "    target = y[t]\n",
    "    print(f\"when input is {context} the target: {target}\")\n",
    "    "
   ]
  },
  {
   "cell_type": "code",
   "execution_count": 9,
   "id": "a957e7f1",
   "metadata": {},
   "outputs": [
    {
     "name": "stdout",
     "output_type": "stream",
     "text": [
      "inputs:\n",
      "torch.Size([4, 8])\n",
      "tensor([[ 67,  66,  74,  61,  57,  66,  72,   1],\n",
      "        [ 57,   1,  56,   5,   1,  67, 103,   1],\n",
      "        [ 66,  72,   1,  68,  53,  71,   1,  56],\n",
      "        [ 73,  71,  61,  67,  66,   1,  56,  57]])\n",
      "targets:\n",
      "torch.Size([4, 8])\n",
      "tensor([[ 66,  74,  61,  57,  66,  72,   1,  56],\n",
      "        [  1,  56,   5,   1,  67, 103,   1,  64],\n",
      "        [ 72,   1,  68,  53,  71,   1,  56,  57],\n",
      "        [ 71,  61,  67,  66,   1,  56,  57,   1]])\n",
      "----\n",
      "when input is [67] the target: 66\n",
      "when input is [67, 66] the target: 74\n",
      "when input is [67, 66, 74] the target: 61\n",
      "when input is [67, 66, 74, 61] the target: 57\n",
      "when input is [67, 66, 74, 61, 57] the target: 66\n",
      "when input is [67, 66, 74, 61, 57, 66] the target: 72\n",
      "when input is [67, 66, 74, 61, 57, 66, 72] the target: 1\n",
      "when input is [67, 66, 74, 61, 57, 66, 72, 1] the target: 56\n",
      "when input is [57] the target: 1\n",
      "when input is [57, 1] the target: 56\n",
      "when input is [57, 1, 56] the target: 5\n",
      "when input is [57, 1, 56, 5] the target: 1\n",
      "when input is [57, 1, 56, 5, 1] the target: 67\n",
      "when input is [57, 1, 56, 5, 1, 67] the target: 103\n",
      "when input is [57, 1, 56, 5, 1, 67, 103] the target: 1\n",
      "when input is [57, 1, 56, 5, 1, 67, 103, 1] the target: 64\n",
      "when input is [66] the target: 72\n",
      "when input is [66, 72] the target: 1\n",
      "when input is [66, 72, 1] the target: 68\n",
      "when input is [66, 72, 1, 68] the target: 53\n",
      "when input is [66, 72, 1, 68, 53] the target: 71\n",
      "when input is [66, 72, 1, 68, 53, 71] the target: 1\n",
      "when input is [66, 72, 1, 68, 53, 71, 1] the target: 56\n",
      "when input is [66, 72, 1, 68, 53, 71, 1, 56] the target: 57\n",
      "when input is [73] the target: 71\n",
      "when input is [73, 71] the target: 61\n",
      "when input is [73, 71, 61] the target: 67\n",
      "when input is [73, 71, 61, 67] the target: 66\n",
      "when input is [73, 71, 61, 67, 66] the target: 1\n",
      "when input is [73, 71, 61, 67, 66, 1] the target: 56\n",
      "when input is [73, 71, 61, 67, 66, 1, 56] the target: 57\n",
      "when input is [73, 71, 61, 67, 66, 1, 56, 57] the target: 1\n"
     ]
    }
   ],
   "source": [
    "torch.manual_seed(1337)\n",
    "batch_size = 4 # how many independent sequences will we process in parallel?\n",
    "block_size = 8 # what is the maximum context length for predictions?\n",
    "\n",
    "def get_batch(split):\n",
    "    # generate a small batch of data of inputs x and targets y\n",
    "    data = train_data if split == 'train' else val_data\n",
    "    ix = torch.randint(len(data) - block_size, (batch_size,))\n",
    "    x = torch.stack([data[i:i+block_size] for i in ix])\n",
    "    y = torch.stack([data[i+1:i+block_size+1] for i in ix])\n",
    "    return x, y\n",
    "\n",
    "xb, yb = get_batch('train')\n",
    "print('inputs:')\n",
    "print(xb.shape)\n",
    "print(xb)\n",
    "print('targets:')\n",
    "print(yb.shape)\n",
    "print(yb)\n",
    "\n",
    "print('----')\n",
    "\n",
    "for b in range(batch_size): # batch dimension\n",
    "    for t in range(block_size): # time dimension\n",
    "        context = xb[b, :t+1]\n",
    "        target = yb[b,t]\n",
    "        print(f\"when input is {context.tolist()} the target: {target}\")"
   ]
  },
  {
   "cell_type": "code",
   "execution_count": 10,
   "id": "8d16e64a",
   "metadata": {},
   "outputs": [
    {
     "name": "stdout",
     "output_type": "stream",
     "text": [
      "torch.Size([32, 106])\n",
      "tensor(5.2726, grad_fn=<NllLossBackward0>)\n",
      "\n",
      "-'Y)éYqÊLL)íf,à\n",
      "3âD0ïQ,ÂdXW)0çjôóBû%øÂ%péç/Hp;ò5\"räòBT6çíS\n",
      "iág0Kg9òv1D Éf,Fh\n",
      "Yºnbwnw'óîÉ;kcl'F!2UïÀr\n"
     ]
    }
   ],
   "source": [
    "import torch\n",
    "import torch.nn as nn\n",
    "from torch.nn import functional as F\n",
    "torch.manual_seed(1337)\n",
    "\n",
    "class BigramLanguageModel(nn.Module):\n",
    "\n",
    "    def __init__(self, vocab_size):\n",
    "        super().__init__()\n",
    "        # each token directly reads off the logits for the next token from a lookup table\n",
    "        self.token_embedding_table = nn.Embedding(vocab_size, vocab_size)\n",
    "\n",
    "    def forward(self, idx, targets=None):\n",
    "\n",
    "        # idx and targets are both (B,T) tensor of integers\n",
    "        logits = self.token_embedding_table(idx) # (B,T,C)\n",
    "\n",
    "        if targets is None:\n",
    "            loss = None\n",
    "        else:\n",
    "            B, T, C = logits.shape\n",
    "            logits = logits.view(B*T, C)\n",
    "            targets = targets.view(B*T)\n",
    "            loss = F.cross_entropy(logits, targets)\n",
    "\n",
    "        return logits, loss\n",
    "\n",
    "    def generate(self, idx, max_new_tokens):\n",
    "        # idx is (B, T) array of indices in the current context\n",
    "        for _ in range(max_new_tokens):\n",
    "            # get the predictions\n",
    "            logits, loss = self(idx)\n",
    "            # focus only on the last time step\n",
    "            logits = logits[:, -1, :] # becomes (B, C)\n",
    "            # apply softmax to get probabilities\n",
    "            probs = F.softmax(logits, dim=-1) # (B, C)\n",
    "            # sample from the distribution\n",
    "            idx_next = torch.multinomial(probs, num_samples=1) # (B, 1)\n",
    "            # append sampled index to the running sequence\n",
    "            idx = torch.cat((idx, idx_next), dim=1) # (B, T+1)\n",
    "        return idx\n",
    "\n",
    "m = BigramLanguageModel(vocab_size)\n",
    "logits, loss = m(xb, yb)\n",
    "print(logits.shape)\n",
    "print(loss)\n",
    "\n",
    "print(decode(m.generate(idx = torch.zeros((1, 1), dtype=torch.long), max_new_tokens=100)[0].tolist()))"
   ]
  },
  {
   "cell_type": "code",
   "execution_count": 11,
   "id": "698bb3fa",
   "metadata": {},
   "outputs": [],
   "source": [
    "# Training the Model \n",
    "# create a PyTorch optimizer\n",
    "optimizer = torch.optim.AdamW(m.parameters(), lr=1e-3)"
   ]
  },
  {
   "cell_type": "code",
   "execution_count": 12,
   "id": "33e854fc",
   "metadata": {},
   "outputs": [
    {
     "name": "stdout",
     "output_type": "stream",
     "text": [
      "3.1425392627716064\n"
     ]
    }
   ],
   "source": [
    "batch_size = 32\n",
    "for steps in range(2000): # increase number of steps for good results...\n",
    "\n",
    "    # sample a batch of data\n",
    "    xb, yb = get_batch('train')\n",
    "\n",
    "    # evaluate the loss\n",
    "    logits, loss = m(xb, yb)\n",
    "    optimizer.zero_grad(set_to_none=True)\n",
    "    loss.backward()\n",
    "    optimizer.step()\n",
    "\n",
    "print(loss.item())"
   ]
  },
  {
   "cell_type": "code",
   "execution_count": 13,
   "id": "7a70ce7b",
   "metadata": {},
   "outputs": [
    {
     "name": "stdout",
     "output_type": "stream",
     "text": [
      "\n",
      "MZEotafn dje à A0aubM-'McW-DínôQJónorSIzNbupëq.alayUBû]XIDgÉ90ï,âl arlli k,ùère?ôtÖ%UAÀURuMè8ørenóRj\n"
     ]
    }
   ],
   "source": [
    "print(decode(m.generate(idx = torch.zeros((1, 1), dtype=torch.long), max_new_tokens=100)[0].tolist()))"
   ]
  },
  {
   "cell_type": "code",
   "execution_count": 14,
   "id": "7d8ff37c",
   "metadata": {},
   "outputs": [],
   "source": [
    "# Masked Self attention model \n",
    "import torch \n",
    "import torch.nn.functional as F\n",
    "\n",
    "B,T,C = 4,8,2 \n",
    "x = torch.randn(B,T,C)\n",
    "tril = torch.tril(torch.ones(T,T))\n",
    "wei = torch.zeros(T,T)  \n",
    "wei = wei.masked_fill(tril == 0, float('-inf'))  # fill the upper triangular part with -inf\n",
    "wei = F.softmax(wei, dim=-1)  # apply softmax to get the attention weights\n",
    "out = wei @ x  \n"
   ]
  },
  {
   "cell_type": "code",
   "execution_count": 15,
   "id": "a8cf436c",
   "metadata": {},
   "outputs": [
    {
     "data": {
      "text/plain": [
       "tensor([[1.0000, 0.0000, 0.0000, 0.0000, 0.0000, 0.0000, 0.0000, 0.0000],\n",
       "        [0.5000, 0.5000, 0.0000, 0.0000, 0.0000, 0.0000, 0.0000, 0.0000],\n",
       "        [0.3333, 0.3333, 0.3333, 0.0000, 0.0000, 0.0000, 0.0000, 0.0000],\n",
       "        [0.2500, 0.2500, 0.2500, 0.2500, 0.0000, 0.0000, 0.0000, 0.0000],\n",
       "        [0.2000, 0.2000, 0.2000, 0.2000, 0.2000, 0.0000, 0.0000, 0.0000],\n",
       "        [0.1667, 0.1667, 0.1667, 0.1667, 0.1667, 0.1667, 0.0000, 0.0000],\n",
       "        [0.1429, 0.1429, 0.1429, 0.1429, 0.1429, 0.1429, 0.1429, 0.0000],\n",
       "        [0.1250, 0.1250, 0.1250, 0.1250, 0.1250, 0.1250, 0.1250, 0.1250]])"
      ]
     },
     "execution_count": 15,
     "metadata": {},
     "output_type": "execute_result"
    }
   ],
   "source": [
    "wei"
   ]
  },
  {
   "cell_type": "code",
   "execution_count": null,
   "id": "dda1331f",
   "metadata": {},
   "outputs": [
    {
     "data": {
      "text/plain": [
       "torch.Size([4, 8, 16])"
      ]
     },
     "execution_count": 16,
     "metadata": {},
     "output_type": "execute_result"
    }
   ],
   "source": [
    "# implementing a single head of masked self attention \n",
    "import torch.nn as nn\n",
    "head_size = 16\n",
    "# x is private info to a token \n",
    "key = nn.Linear(C, head_size, bias=False) #key is what I have  \n",
    "query = nn.Linear(C, head_size, bias=False) # query is what I am interested in\n",
    "value = nn.Linear(C, head_size, bias=False) # if you find me interesting , here is what I will provide to you \n",
    "\n",
    "k = key(x)\n",
    "q = query(x)\n",
    "wei = q   @ k.transpose(-2, -1)   # scaled dot-product attention\n",
    "wei = wei.masked_fill(tril == 0, float('-inf'))  # fill the upper triangular part with -inf\n",
    "wei = F.softmax(wei, dim=-1)  # apply softmax to get the attention weights\n",
    "out = wei @ value(x)\n",
    "out.shape"
   ]
  },
  {
   "cell_type": "code",
   "execution_count": null,
   "id": "f52f3c95",
   "metadata": {},
   "outputs": [],
   "source": [
    "class Head(nn.Module):\n",
    "    \"\"\" one head of self-attention \"\"\"\n",
    "\n",
    "    def __init__(self, head_size):\n",
    "        super().__init__()\n",
    "        self.key = nn.Linear(n_embd, head_size, bias=False)\n",
    "        self.query = nn.Linear(n_embd, head_size, bias=False)\n",
    "        self.value = nn.Linear(n_embd, head_size, bias=False)\n",
    "        self.register_buffer('tril', torch.tril(torch.ones(block_size, block_size)))\n",
    "\n",
    "        self.dropout = nn.Dropout(dropout)\n",
    "\n",
    "    def forward(self, x):\n",
    "        B,T,C = x.shape\n",
    "        k = self.key(x)   # (B,T,C)\n",
    "        q = self.query(x) # (B,T,C)\n",
    "        # compute attention scores (\"affinities\")\n",
    "        wei = q @ k.transpose(-2,-1) * C**-0.5 # (B, T, C) @ (B, C, T) -> (B, T, T)\n",
    "        wei = wei.masked_fill(self.tril[:T, :T] == 0, float('-inf')) # (B, T, T)\n",
    "        wei = F.softmax(wei, dim=-1) # (B, T, T)\n",
    "        wei = self.dropout(wei)\n",
    "        # perform the weighted aggregation of the values\n",
    "        v = self.value(x) # (B,T,C)\n",
    "        out = wei @ v # (B, T, T) @ (B, T, C) -> (B, T, C)\n",
    "        return out\n"
   ]
  }
 ],
 "metadata": {
  "kernelspec": {
   "display_name": "base",
   "language": "python",
   "name": "python3"
  },
  "language_info": {
   "codemirror_mode": {
    "name": "ipython",
    "version": 3
   },
   "file_extension": ".py",
   "mimetype": "text/x-python",
   "name": "python",
   "nbconvert_exporter": "python",
   "pygments_lexer": "ipython3",
   "version": "3.11.7"
  }
 },
 "nbformat": 4,
 "nbformat_minor": 5
}
