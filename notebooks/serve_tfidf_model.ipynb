{
  "cells": [
    {
      "cell_type": "code",
      "execution_count": null,
      "metadata": {
        "id": "uFrM8xnsHvN2"
      },
      "outputs": [],
      "source": [
        "# !pip install pdfplumber\n",
        "# !pip install -U spacy\n",
        "# !python -m spacy download fr_core_news_sm"
      ]
    },
    {
      "cell_type": "code",
      "execution_count": 1,
      "metadata": {
        "colab": {
          "base_uri": "https://localhost:8080/",
          "height": 381
        },
        "id": "jFqGnMMbwXaR",
        "outputId": "2d5f495e-168e-494d-c673-892cdb4fb1cc"
      },
      "outputs": [],
      "source": [
        "import spacy\n",
        "import joblib"
      ]
    },
    {
      "cell_type": "code",
      "execution_count": 2,
      "metadata": {},
      "outputs": [],
      "source": [
        "all_sentences = joblib.load(\"../models/all_sentences.pkl\")\n",
        "texts = joblib.load(\"../data/texts.pkl\")\n",
        "sources = joblib.load(\"../data/sources.pkl\")\n",
        "vectorizer = joblib.load(\"../models/tfidf_vectorizer.pkl\")\n",
        "X = joblib.load(\"../data/tfidf_matrix.pkl\")"
      ]
    },
    {
      "cell_type": "code",
      "execution_count": 4,
      "metadata": {
        "id": "CF-9svdYKq6W"
      },
      "outputs": [],
      "source": [
        "nlp = spacy.load(\"fr_core_news_sm\")\n",
        "\n",
        "def preprocess(text):\n",
        "    doc = nlp(text.lower())\n",
        "    tokens = [token.text for token in doc if token.is_alpha and not token.is_stop]\n",
        "    return \" \".join(tokens)"
      ]
    },
    {
      "cell_type": "code",
      "execution_count": 5,
      "metadata": {
        "id": "E9WcvJe7Nsvi"
      },
      "outputs": [],
      "source": [
        "from sklearn.metrics.pairwise import cosine_similarity\n",
        "import numpy as np\n",
        "\n",
        "def search(query, top_k=3):\n",
        "    query_clean = preprocess(query)\n",
        "    query_vec = vectorizer.transform([query_clean])\n",
        "    scores = cosine_similarity(query_vec, X)[0]\n",
        "    top_indices = np.argsort(scores)[::-1][:top_k]\n",
        "\n",
        "    results = []\n",
        "    for i in top_indices:\n",
        "        results.append({\n",
        "            \"score\": scores[i],\n",
        "            \"text\": texts[i],\n",
        "            \"source\": sources[i]\n",
        "        })\n",
        "    return results\n"
      ]
    },
    {
      "cell_type": "code",
      "execution_count": 6,
      "metadata": {
        "colab": {
          "base_uri": "https://localhost:8080/"
        },
        "id": "PRBjX4laNyuo",
        "outputId": "65175ed8-f266-481d-c1b3-ab534650c664"
      },
      "outputs": [
        {
          "name": "stdout",
          "output_type": "stream",
          "text": [
            "[0.6749] (source: Constitution)\n",
            "→ L'hymne national est « La Marseillaise »\n",
            "\n",
            "[0.3562] (source: code penal)\n",
            "→ Article 433-5-1\n",
            "Le fait, au cours d'une manifestation organisée ou réglementée par les autorités publiques, d'outrager\n",
            "publiquement l'hymne national ou le drapeau tricolore est puni de 7 500 euros d'amende\n",
            "\n",
            "[0.2478] (source: code de travail)\n",
            "→ Paragraphe 2 : Service national\n",
            "\n"
          ]
        }
      ],
      "source": [
        "results = search(\"Que est l'hymne national de la france\")\n",
        "\n",
        "for res in results:\n",
        "    print(f\"[{res['score']:.4f}] (source: {res['source']})\")\n",
        "    print(f\"→ {res['text']}\\n\")\n"
      ]
    }
  ],
  "metadata": {
    "colab": {
      "provenance": []
    },
    "kernelspec": {
      "display_name": "base",
      "language": "python",
      "name": "python3"
    },
    "language_info": {
      "codemirror_mode": {
        "name": "ipython",
        "version": 3
      },
      "file_extension": ".py",
      "mimetype": "text/x-python",
      "name": "python",
      "nbconvert_exporter": "python",
      "pygments_lexer": "ipython3",
      "version": "3.11.7"
    }
  },
  "nbformat": 4,
  "nbformat_minor": 0
}
