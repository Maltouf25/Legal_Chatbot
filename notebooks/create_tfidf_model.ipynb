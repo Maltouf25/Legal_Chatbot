{
  "cells": [
    {
      "cell_type": "code",
      "execution_count": null,
      "metadata": {
        "id": "uFrM8xnsHvN2"
      },
      "outputs": [],
      "source": [
        "# !pip install pdfplumber"
      ]
    },
    {
      "cell_type": "code",
      "execution_count": null,
      "metadata": {
        "id": "wuOjArzXIXf9"
      },
      "outputs": [],
      "source": [
        "# !pip install -U spacy"
      ]
    },
    {
      "cell_type": "code",
      "execution_count": null,
      "metadata": {
        "id": "xRRPHaWgIcMI"
      },
      "outputs": [],
      "source": [
        "# !python -m spacy download fr_core_news_sm"
      ]
    },
    {
      "cell_type": "code",
      "execution_count": 1,
      "metadata": {
        "colab": {
          "base_uri": "https://localhost:8080/",
          "height": 381
        },
        "id": "jFqGnMMbwXaR",
        "outputId": "2d5f495e-168e-494d-c673-892cdb4fb1cc"
      },
      "outputs": [],
      "source": [
        "import pdfplumber\n",
        "import spacy\n",
        "import re\n",
        "import joblib\n",
        "\n"
      ]
    },
    {
      "cell_type": "code",
      "execution_count": 2,
      "metadata": {
        "id": "0JJmAmihMJum"
      },
      "outputs": [],
      "source": [
        "def extract_text_from_pdf(pdf_path):\n",
        "    full_text = \"\"\n",
        "    with pdfplumber.open(pdf_path) as pdf:\n",
        "        for page in pdf.pages:\n",
        "            full_text += page.extract_text() + \"\\n\"\n",
        "    return full_text"
      ]
    },
    {
      "cell_type": "code",
      "execution_count": 3,
      "metadata": {
        "id": "a56obdPKwHV9"
      },
      "outputs": [],
      "source": [
        "def remove_page_headers(text):\n",
        "    # Remove lines containing \"1er janvier 2015\" (or any variant like \"1 janvier 2015\")\n",
        "    cleaned = re.sub(r'\\b1(?:er)?\\s+janvier\\s+2015\\b', '', text, flags=re.IGNORECASE)\n",
        "    return cleaned"
      ]
    },
    {
      "cell_type": "code",
      "execution_count": 4,
      "metadata": {
        "id": "SjPyqnPkrwlk"
      },
      "outputs": [],
      "source": [
        "# nlp = spacy.load(\"fr_core_news_sm\")\n",
        "def split_by_period_newline(text):\n",
        "    # Split only where a period is directly followed by a newline character\n",
        "    raw_sentences = re.split(r'\\.\\s*\\n+', text)\n",
        "    # Strip each sentence and remove empty ones\n",
        "    sentences = [s.strip() for s in raw_sentences if s.strip()]\n",
        "    return sentences\n"
      ]
    },
    {
      "cell_type": "code",
      "execution_count": 9,
      "metadata": {
        "colab": {
          "base_uri": "https://localhost:8080/"
        },
        "id": "HVZlbSedwIMC",
        "outputId": "45789b83-9a60-4b43-949a-96ca48e52a0d"
      },
      "outputs": [
        {
          "name": "stdout",
          "output_type": "stream",
          "text": [
            "Total sentences: 32482\n"
          ]
        }
      ],
      "source": [
        "file_paths = {\n",
        "    \"../data/constitution.pdf\": \"Constitution\",\n",
        "    \"../data/code civil.pdf\": \"code civil\",\n",
        "    \"../data/code de travail.pdf\": \"code de travail\",\n",
        "    \"../data/code penal.pdf\": \"code penal\"\n",
        "\n",
        "}\n",
        "\n",
        "all_sentences = []\n",
        "\n",
        "for path, source_name in file_paths.items():\n",
        "    raw = extract_text_from_pdf(path)\n",
        "    cleaned = remove_page_headers(raw)\n",
        "    split_sentences = split_by_period_newline(cleaned)\n",
        "    for s in split_sentences:\n",
        "        if s.strip():\n",
        "            all_sentences.append((s.strip(), source_name))\n",
        "\n",
        "\n",
        "print(f\"Total sentences: {len(all_sentences)}\")"
      ]
    },
    {
      "cell_type": "code",
      "execution_count": 7,
      "metadata": {},
      "outputs": [],
      "source": [
        "footer_keywords = [\n",
        "    \"Dernière modification\",\n",
        "    \"Document généré\",\n",
        "    \"Copyright\",\n",
        "    \"Legifrance\"\n",
        "]\n",
        "\n",
        "def is_footer(sentence):\n",
        "    return any(keyword.lower() in sentence.lower() for keyword in footer_keywords)\n",
        "\n",
        "# Filter out footer-like entries\n",
        "all_sentences = [\n",
        "    (s, source) for (s, source) in all_sentences\n",
        "    if not is_footer(s)\n",
        "]"
      ]
    },
    {
      "cell_type": "code",
      "execution_count": 8,
      "metadata": {
        "colab": {
          "base_uri": "https://localhost:8080/"
        },
        "id": "iCcrU2hGtocp",
        "outputId": "fed9245d-d3df-49b5-bfc3-0177bdcd1fe3"
      },
      "outputs": [],
      "source": [
        "texts = [s[0] for s in all_sentences]\n",
        "sources = [s[1] for s in all_sentences]"
      ]
    },
    {
      "cell_type": "code",
      "execution_count": 10,
      "metadata": {
        "id": "CF-9svdYKq6W"
      },
      "outputs": [],
      "source": [
        "nlp = spacy.load(\"fr_core_news_sm\")\n",
        "\n",
        "def preprocess(text):\n",
        "    doc = nlp(text.lower())\n",
        "    tokens = [token.text for token in doc if token.is_alpha and not token.is_stop]\n",
        "    return \" \".join(tokens)\n",
        "\n",
        "preprocessed_sentences = [preprocess(s) for s in texts]\n"
      ]
    },
    {
      "cell_type": "code",
      "execution_count": 13,
      "metadata": {},
      "outputs": [],
      "source": [
        "from sklearn.feature_extraction.text import TfidfVectorizer\n",
        "\n",
        "vectorizer = TfidfVectorizer()\n",
        "X = vectorizer.fit_transform(preprocessed_sentences)"
      ]
    },
    {
      "cell_type": "code",
      "execution_count": null,
      "metadata": {},
      "outputs": [
        {
          "data": {
            "text/plain": [
              "['../data/sources.pkl']"
            ]
          },
          "execution_count": 15,
          "metadata": {},
          "output_type": "execute_result"
        }
      ],
      "source": [
        "joblib.dump(preprocessed_sentences, \"../models/preprocessed_sentences.pkl\")\n",
        "joblib.dump(vectorizer, \"../models/tfidf_vectorizer.pkl\")\n",
        "joblib.dump(X, \"../data/tfidf_matrix.pkl\")\n",
        "joblib.dump(texts, \"../data/texts.pkl\")\n",
        "joblib.dump(sources, \"../data/sources.pkl\")"
      ]
    },
    {
      "cell_type": "code",
      "execution_count": null,
      "metadata": {
        "id": "E9WcvJe7Nsvi"
      },
      "outputs": [],
      "source": [
        "# from sklearn.metrics.pairwise import cosine_similarity\n",
        "# import numpy as np\n",
        "\n",
        "# def search(query, top_k=3):\n",
        "#     query_clean = preprocess(query)\n",
        "#     query_vec = vectorizer.transform([query_clean])\n",
        "#     scores = cosine_similarity(query_vec, X)[0]\n",
        "#     top_indices = np.argsort(scores)[::-1][:top_k]\n",
        "\n",
        "#     results = []\n",
        "#     for i in top_indices:\n",
        "#         results.append({\n",
        "#             \"score\": scores[i],\n",
        "#             \"text\": texts[i],\n",
        "#             \"source\": sources[i]\n",
        "#         })\n",
        "#     return results\n"
      ]
    },
    {
      "cell_type": "code",
      "execution_count": null,
      "metadata": {
        "colab": {
          "base_uri": "https://localhost:8080/"
        },
        "id": "PRBjX4laNyuo",
        "outputId": "65175ed8-f266-481d-c1b3-ab534650c664"
      },
      "outputs": [],
      "source": [
        "# results = search(\"Que est l'hymne national de la france\")\n",
        "\n",
        "# for res in results:\n",
        "#     print(f\"[{res['score']:.4f}] (source: {res['source']})\")\n",
        "#     print(f\"→ {res['text']}\\n\")\n"
      ]
    }
  ],
  "metadata": {
    "colab": {
      "provenance": []
    },
    "kernelspec": {
      "display_name": "base",
      "language": "python",
      "name": "python3"
    },
    "language_info": {
      "codemirror_mode": {
        "name": "ipython",
        "version": 3
      },
      "file_extension": ".py",
      "mimetype": "text/x-python",
      "name": "python",
      "nbconvert_exporter": "python",
      "pygments_lexer": "ipython3",
      "version": "3.11.7"
    }
  },
  "nbformat": 4,
  "nbformat_minor": 0
}
